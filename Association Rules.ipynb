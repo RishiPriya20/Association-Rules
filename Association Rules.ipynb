{
 "cells": [
  {
   "cell_type": "markdown",
   "id": "ace57c4d-75fe-4416-b1be-9dbad9a08147",
   "metadata": {},
   "source": [
    "                                               **ASSOCIATION RULES**                                                                                                     "
   ]
  },
  {
   "cell_type": "markdown",
   "id": "17bcf4c7-4718-4566-8186-47e486968b90",
   "metadata": {},
   "source": [
    "The Objective of this assignment is to introduce students to rule mining techniques, particularly focusing on market basket analysis and provide hands on experience."
   ]
  },
  {
   "cell_type": "markdown",
   "id": "26323955-2541-4b33-9a96-1aad205acbb0",
   "metadata": {},
   "source": [
    "Dataset:\n",
    "Use the Online retail dataset to apply the association rules.\n"
   ]
  },
  {
   "cell_type": "markdown",
   "id": "36277727-2cb2-4794-a6db-f8971fb9eb6e",
   "metadata": {},
   "source": [
    "** 1. Data preprocessing**"
   ]
  },
  {
   "cell_type": "code",
   "execution_count": 1,
   "id": "cafffc32-fb5d-4363-8d01-e065b44beb08",
   "metadata": {},
   "outputs": [],
   "source": [
    "#Loading the data"
   ]
  },
  {
   "cell_type": "code",
   "execution_count": 19,
   "id": "59e89031-90b6-4250-8842-c96c08dc0233",
   "metadata": {},
   "outputs": [
    {
     "data": {
      "text/html": [
       "<div>\n",
       "<style scoped>\n",
       "    .dataframe tbody tr th:only-of-type {\n",
       "        vertical-align: middle;\n",
       "    }\n",
       "\n",
       "    .dataframe tbody tr th {\n",
       "        vertical-align: top;\n",
       "    }\n",
       "\n",
       "    .dataframe thead th {\n",
       "        text-align: right;\n",
       "    }\n",
       "</style>\n",
       "<table border=\"1\" class=\"dataframe\">\n",
       "  <thead>\n",
       "    <tr style=\"text-align: right;\">\n",
       "      <th></th>\n",
       "      <th>0</th>\n",
       "    </tr>\n",
       "  </thead>\n",
       "  <tbody>\n",
       "    <tr>\n",
       "      <th>0</th>\n",
       "      <td>shrimp,almonds,avocado,vegetables mix,green gr...</td>\n",
       "    </tr>\n",
       "    <tr>\n",
       "      <th>1</th>\n",
       "      <td>burgers,meatballs,eggs</td>\n",
       "    </tr>\n",
       "    <tr>\n",
       "      <th>2</th>\n",
       "      <td>chutney</td>\n",
       "    </tr>\n",
       "    <tr>\n",
       "      <th>3</th>\n",
       "      <td>turkey,avocado</td>\n",
       "    </tr>\n",
       "    <tr>\n",
       "      <th>4</th>\n",
       "      <td>mineral water,milk,energy bar,whole wheat rice...</td>\n",
       "    </tr>\n",
       "    <tr>\n",
       "      <th>...</th>\n",
       "      <td>...</td>\n",
       "    </tr>\n",
       "    <tr>\n",
       "      <th>7496</th>\n",
       "      <td>butter,light mayo,fresh bread</td>\n",
       "    </tr>\n",
       "    <tr>\n",
       "      <th>7497</th>\n",
       "      <td>burgers,frozen vegetables,eggs,french fries,ma...</td>\n",
       "    </tr>\n",
       "    <tr>\n",
       "      <th>7498</th>\n",
       "      <td>chicken</td>\n",
       "    </tr>\n",
       "    <tr>\n",
       "      <th>7499</th>\n",
       "      <td>escalope,green tea</td>\n",
       "    </tr>\n",
       "    <tr>\n",
       "      <th>7500</th>\n",
       "      <td>eggs,frozen smoothie,yogurt cake,low fat yogurt</td>\n",
       "    </tr>\n",
       "  </tbody>\n",
       "</table>\n",
       "<p>7501 rows × 1 columns</p>\n",
       "</div>"
      ],
      "text/plain": [
       "                                                      0\n",
       "0     shrimp,almonds,avocado,vegetables mix,green gr...\n",
       "1                                burgers,meatballs,eggs\n",
       "2                                               chutney\n",
       "3                                        turkey,avocado\n",
       "4     mineral water,milk,energy bar,whole wheat rice...\n",
       "...                                                 ...\n",
       "7496                      butter,light mayo,fresh bread\n",
       "7497  burgers,frozen vegetables,eggs,french fries,ma...\n",
       "7498                                            chicken\n",
       "7499                                 escalope,green tea\n",
       "7500    eggs,frozen smoothie,yogurt cake,low fat yogurt\n",
       "\n",
       "[7501 rows x 1 columns]"
      ]
     },
     "execution_count": 19,
     "metadata": {},
     "output_type": "execute_result"
    }
   ],
   "source": [
    "import pandas as pd\n",
    "from sklearn.preprocessing import MultiLabelBinarizer\n",
    "df = pd.read_excel(\"C:\\\\Users\\\\rishi\\\\OneDrive\\\\Desktop\\\\DS Assigments\\\\Online retail.xlsx\",header=None)  \n",
    "df\n"
   ]
  },
  {
   "cell_type": "code",
   "execution_count": 3,
   "id": "cab05217-c8c7-4ea3-ad28-0cd93db0e735",
   "metadata": {},
   "outputs": [
    {
     "name": "stdout",
     "output_type": "stream",
     "text": [
      "                                                   0\n",
      "0  shrimp,almonds,avocado,vegetables mix,green gr...\n",
      "1                             burgers,meatballs,eggs\n",
      "2                                            chutney\n",
      "3                                     turkey,avocado\n",
      "4  mineral water,milk,energy bar,whole wheat rice...\n"
     ]
    }
   ],
   "source": [
    "print(df.head())"
   ]
  },
  {
   "cell_type": "code",
   "execution_count": 4,
   "id": "acdb1aba-4eaf-4b27-bf11-4256026a7eae",
   "metadata": {},
   "outputs": [
    {
     "name": "stdout",
     "output_type": "stream",
     "text": [
      "<class 'pandas.core.frame.DataFrame'>\n",
      "RangeIndex: 7501 entries, 0 to 7500\n",
      "Data columns (total 1 columns):\n",
      " #   Column  Non-Null Count  Dtype \n",
      "---  ------  --------------  ----- \n",
      " 0   0       7501 non-null   object\n",
      "dtypes: object(1)\n",
      "memory usage: 58.7+ KB\n",
      "None\n"
     ]
    }
   ],
   "source": [
    "print(df.info())"
   ]
  },
  {
   "cell_type": "code",
   "execution_count": 5,
   "id": "29bb7932-8363-489c-a6e8-bf8599fdab09",
   "metadata": {},
   "outputs": [
    {
     "name": "stdout",
     "output_type": "stream",
     "text": [
      "Index([0], dtype='int64')\n"
     ]
    }
   ],
   "source": [
    "print(df.columns)"
   ]
  },
  {
   "cell_type": "code",
   "execution_count": 6,
   "id": "cbfc6b83-d4cf-4523-9614-261f32ef3fc0",
   "metadata": {},
   "outputs": [],
   "source": [
    "#Assigning column name if missing"
   ]
  },
  {
   "cell_type": "code",
   "execution_count": 6,
   "id": "fd9bcce6-42c0-4e9b-a397-71ead4c55697",
   "metadata": {},
   "outputs": [],
   "source": [
    "df.columns = ['Products']"
   ]
  },
  {
   "cell_type": "code",
   "execution_count": 8,
   "id": "bf00f25c-ed5e-4572-84c1-e34c2c8eacf8",
   "metadata": {},
   "outputs": [],
   "source": [
    "#Spliting the product lists into individual items"
   ]
  },
  {
   "cell_type": "code",
   "execution_count": 7,
   "id": "9e559c6c-48a3-4d0b-8c3d-7fd0af812c0b",
   "metadata": {},
   "outputs": [],
   "source": [
    "df['Products'] = df['Products'].apply(lambda x: x.split(','))"
   ]
  },
  {
   "cell_type": "markdown",
   "id": "9bb77f07-a0e8-4d2c-b365-7463508a35ed",
   "metadata": {},
   "source": [
    "**Observation**"
   ]
  },
  {
   "cell_type": "markdown",
   "id": "3da9f160-e42f-4f1a-8450-4d6e279d1150",
   "metadata": {},
   "source": [
    "The line of code processes the 'Products' column in the dataframe 'df' which contains lists of products in each cell.\n",
    "'df['Products'] selects the 'products' column from the dataframe\n",
    "'.apply(lambda x: x.split(','))' applies a function to each cell in this column The lambda function 'lambda x:x.split(',') takes each cell string and splits it into a list of products based on commas."
   ]
  },
  {
   "cell_type": "code",
   "execution_count": 10,
   "id": "13abbb3c-e210-4d53-8e23-ce8d97179394",
   "metadata": {},
   "outputs": [],
   "source": [
    "#Using MultiLabelBinarizer to convert the list of products into a one-hot encoded matrix"
   ]
  },
  {
   "cell_type": "code",
   "execution_count": 8,
   "id": "3bbce56f-03c1-44f5-a64e-0de7f99804d9",
   "metadata": {},
   "outputs": [],
   "source": [
    "mlb = MultiLabelBinarizer()\n",
    "basket = mlb.fit_transform(df['Products'])"
   ]
  },
  {
   "cell_type": "markdown",
   "id": "2a60a952-dddd-46c4-a0ec-1e6779d2fc96",
   "metadata": {},
   "source": [
    "**Observation**"
   ]
  },
  {
   "cell_type": "markdown",
   "id": "d60058d2-5f42-4ebd-8242-8201c129c26d",
   "metadata": {},
   "source": [
    "To prepare the dataset for association rule mining the product lists were transformed into a format suitable for analysis using MultiLabelBinarizer from 'sklearn.preprocessing' model.\n",
    "The first line created an instance of the 'multiLabelBinarizer; class. This tool transforms lists of labels into a format where a binary column represents each label.\n",
    "The second line 'fit_transform' method was applied to the 'Products' column of the Dataframe. This column contains lists of products purchased in each transaction.\n",
    "'fit_transform' converts these lists into a binary matrix. Each row represents a product.The matrix contains 1s and 0s where a 1 indicates that the product is present in the transaction and 0 indicates it is not"
   ]
  },
  {
   "cell_type": "code",
   "execution_count": 12,
   "id": "28061a4b-bfb0-4892-8dd5-90a3996c5ec5",
   "metadata": {},
   "outputs": [],
   "source": [
    "#Convert the basket matrix into a  Data Frame"
   ]
  },
  {
   "cell_type": "code",
   "execution_count": 9,
   "id": "75e4cf8b-ec18-4f93-bea2-0f0767ab652e",
   "metadata": {},
   "outputs": [],
   "source": [
    "basket_df = pd.DataFrame(basket, columns=mlb.classes_)"
   ]
  },
  {
   "cell_type": "markdown",
   "id": "71aea166-291d-460f-824c-3f9ede010e78",
   "metadata": {},
   "source": [
    "**Observation**"
   ]
  },
  {
   "cell_type": "markdown",
   "id": "12681f75-03ca-4a2b-a780-6b0598af6dec",
   "metadata": {},
   "source": [
    "This is used to convert the one-hot encoded basket data into a DataFrame format that is suitable for further analysis.\n",
    "One-Hot Encoding: After preprocessing the datasets the 'MultiLabelBinarizer' is used to transform the list of products in each transaction into a binary matrix. In this matrix, each column represents a product, and each row represents a transaction. A value of '1' indicates the presence of the product in the transaction while '0' indicates its absence.\n",
    "DtaFrame Creation: The code converts this binary matrix ('basket') into a pandas DataFrame ('basket_df') the 'columns=mlb.classes_' argument sets the column names of the DataFrame to the product names identified by the 'MultiLabelBinarizer' This makes it easier to interpret the data and apply association rule mining techniques.\n"
   ]
  },
  {
   "cell_type": "code",
   "execution_count": 14,
   "id": "ccf84c9a-1f1b-4026-83f6-dff98e355928",
   "metadata": {},
   "outputs": [],
   "source": [
    "#Displaying the first few rows to verify the transformation"
   ]
  },
  {
   "cell_type": "code",
   "execution_count": 10,
   "id": "84af8480-8f2e-456b-92d2-492114b033a8",
   "metadata": {},
   "outputs": [
    {
     "name": "stdout",
     "output_type": "stream",
     "text": [
      "    asparagus  almonds  antioxydant juice  asparagus  avocado  babies food  \\\n",
      "0           0        1                  1          0        1            0   \n",
      "1           0        0                  0          0        0            0   \n",
      "2           0        0                  0          0        0            0   \n",
      "3           0        0                  0          0        1            0   \n",
      "4           0        0                  0          0        0            0   \n",
      "\n",
      "   bacon  barbecue sauce  black tea  blueberries  ...  turkey  vegetables mix  \\\n",
      "0      0               0          0            0  ...       0               1   \n",
      "1      0               0          0            0  ...       0               0   \n",
      "2      0               0          0            0  ...       0               0   \n",
      "3      0               0          0            0  ...       1               0   \n",
      "4      0               0          0            0  ...       0               0   \n",
      "\n",
      "   water spray  white wine  whole weat flour  whole wheat pasta  \\\n",
      "0            0           0                 1                  0   \n",
      "1            0           0                 0                  0   \n",
      "2            0           0                 0                  0   \n",
      "3            0           0                 0                  0   \n",
      "4            0           0                 0                  0   \n",
      "\n",
      "   whole wheat rice  yams  yogurt cake  zucchini  \n",
      "0                 0     1            0         0  \n",
      "1                 0     0            0         0  \n",
      "2                 0     0            0         0  \n",
      "3                 0     0            0         0  \n",
      "4                 1     0            0         0  \n",
      "\n",
      "[5 rows x 120 columns]\n"
     ]
    }
   ],
   "source": [
    "print(basket_df.head())"
   ]
  },
  {
   "cell_type": "code",
   "execution_count": 16,
   "id": "4af5512a-babd-4a6a-b534-f5344f42de94",
   "metadata": {},
   "outputs": [],
   "source": [
    "#Confirm column name"
   ]
  },
  {
   "cell_type": "code",
   "execution_count": 11,
   "id": "808c6dee-a2dc-4697-94bb-6dfe35037d62",
   "metadata": {},
   "outputs": [
    {
     "name": "stdout",
     "output_type": "stream",
     "text": [
      "Index(['Products'], dtype='object')\n"
     ]
    }
   ],
   "source": [
    "print(df.columns)"
   ]
  },
  {
   "cell_type": "code",
   "execution_count": 18,
   "id": "d6624e50-c770-4de0-b519-adcd9887a5a1",
   "metadata": {},
   "outputs": [],
   "source": [
    "#Checking for data in the column"
   ]
  },
  {
   "cell_type": "code",
   "execution_count": 12,
   "id": "81a9da18-2e67-472e-a041-87024beec678",
   "metadata": {},
   "outputs": [
    {
     "name": "stdout",
     "output_type": "stream",
     "text": [
      "0    [shrimp, almonds, avocado, vegetables mix, gre...\n",
      "1                           [burgers, meatballs, eggs]\n",
      "2                                            [chutney]\n",
      "3                                    [turkey, avocado]\n",
      "4    [mineral water, milk, energy bar, whole wheat ...\n",
      "Name: Products, dtype: object\n"
     ]
    }
   ],
   "source": [
    "print(df['Products'].head())"
   ]
  },
  {
   "cell_type": "markdown",
   "id": "7c35d08f-44a8-452e-aa8d-5e3594953e6a",
   "metadata": {},
   "source": [
    "**Association Rule Mining**"
   ]
  },
  {
   "cell_type": "code",
   "execution_count": 12,
   "id": "bcb5cb81-0ed5-4b5b-92b6-5550f6b44524",
   "metadata": {},
   "outputs": [
    {
     "name": "stdout",
     "output_type": "stream",
     "text": [
      "Requirement already satisfied: pip in c:\\users\\rishi\\appdata\\local\\programs\\python\\python312\\lib\\site-packages (24.2)\n",
      "Note: you may need to restart the kernel to use updated packages.\n"
     ]
    }
   ],
   "source": [
    "pip install --upgrade pip"
   ]
  },
  {
   "cell_type": "code",
   "execution_count": 13,
   "id": "9704782d-c2ce-4341-95ea-f05a8907fb26",
   "metadata": {},
   "outputs": [],
   "source": [
    "from mlxtend.frequent_patterns import apriori, association_rules\n"
   ]
  },
  {
   "cell_type": "code",
   "execution_count": 14,
   "id": "784115e4-816f-4ded-8bc5-69ad5ef42a4f",
   "metadata": {},
   "outputs": [],
   "source": [
    "import pandas as pd\n",
    "from mlxtend.frequent_patterns import apriori\n",
    "\n",
    "# Example DataFrame with item counts\n",
    "basket_df = pd.DataFrame({\n",
    "    'item1': [1, 0, 1, 1],\n",
    "    'item2': [0, 1, 0, 1],\n",
    "    'item3': [1, 1, 0, 0]\n",
    "})\n",
    "\n",
    "# Convert counts to boolean\n",
    "basket_df = basket_df.astype(bool)\n"
   ]
  },
  {
   "cell_type": "markdown",
   "id": "5b3fb874-d1bc-427c-80ba-f4754599b60e",
   "metadata": {},
   "source": [
    "**Observation**"
   ]
  },
  {
   "cell_type": "markdown",
   "id": "b15603c2-d08e-4554-a5f1-d6d7ca3a8e02",
   "metadata": {},
   "source": [
    "A data frame named 'basket_df' is created to represent transactions. Each row corresponds to a transaction and each column represents an item with value indicating whether the item was purchased or not.\n",
    "The 'astype(bool)' function is used to convert the item counts into boolean values(False and True). This transformation is required for the 'aprior' algorithm which expects a Dataframe of boolean values where 'True' represents the presence of an item and 'False' represents its absence."
   ]
  },
  {
   "cell_type": "code",
   "execution_count": 15,
   "id": "7dd5bb03-d2f7-4ffc-addf-35917803e7e7",
   "metadata": {},
   "outputs": [
    {
     "name": "stdout",
     "output_type": "stream",
     "text": [
      "   support        itemsets\n",
      "0     0.75         (item1)\n",
      "1     0.50         (item2)\n",
      "2     0.50         (item3)\n",
      "3     0.25  (item2, item1)\n",
      "4     0.25  (item3, item1)\n",
      "5     0.25  (item2, item3)\n"
     ]
    }
   ],
   "source": [
    "frequent_itemsets = apriori(basket_df, min_support=0.01, use_colnames=True)\n",
    "print(frequent_itemsets)\n"
   ]
  },
  {
   "cell_type": "markdown",
   "id": "7821d1cd-4f7f-4922-adae-7b80df4ec7eb",
   "metadata": {},
   "source": [
    "**Observation**"
   ]
  },
  {
   "cell_type": "markdown",
   "id": "cfabdcf7-2c3e-4a39-8c2d-a53ad99eeaa8",
   "metadata": {},
   "source": [
    "The purpose of using 'apriori' and 'association_rules' functions from the 'mlxtend.frequent_pattersns' library is to perform market basket analysis. This analysis helps to discover frequent item sets and derive association rules from a transaction dataset.\n",
    "The 'aprior' function is used to find frequent items in the transaction data.\n",
    "\n",
    "'basket_df': The data frame where each row represents a transaction and each column represents a product.\n",
    "\n",
    "'min_support=0.01': The minimum support threshold to consider an itemset as frequent. In this case, itemsets appearing in at least 1% of transactions are considered.\n",
    "'use_colnames' : Indicates that the item names should be used in the output\n"
   ]
  },
  {
   "cell_type": "code",
   "execution_count": null,
   "id": "28f5044c-847a-44e2-8f1f-5c0dd8f0fd73",
   "metadata": {},
   "outputs": [],
   "source": [
    "#Generate association rules"
   ]
  },
  {
   "cell_type": "code",
   "execution_count": 16,
   "id": "846589d3-0225-4d3d-ad68-214e41d31f97",
   "metadata": {},
   "outputs": [],
   "source": [
    "rules = association_rules(frequent_itemsets, metric='lift', min_threshold=1)"
   ]
  },
  {
   "cell_type": "markdown",
   "id": "8069d765-0a7b-4c91-b505-499c2eb49b91",
   "metadata": {},
   "source": [
    "**Observation**"
   ]
  },
  {
   "cell_type": "markdown",
   "id": "879e2515-6808-407b-b0c1-f0a8193091ca",
   "metadata": {},
   "source": [
    "The purpose of the 'association_rules' function generate rules from the frequent itemsets found by 'apriori'.\n",
    "'frequent_itemsets': The data frame of frequent itemsets obtained from the 'aprior' function.\n",
    "'metric='lift': It specifies that the lift metric should be used to evaluate the rules.\n",
    "'min_threshold=1': The minimum threshold for the lift metric to consider a rule significant\n"
   ]
  },
  {
   "cell_type": "code",
   "execution_count": null,
   "id": "6faa3b9e-e9f5-441a-adcf-9d45e48c8f40",
   "metadata": {},
   "outputs": [],
   "source": [
    "#3.Analysing and interpretation\n",
    "#Displaying the rules"
   ]
  },
  {
   "cell_type": "code",
   "execution_count": 17,
   "id": "f2ac342b-967f-4fd3-813c-add9ae44b4f3",
   "metadata": {},
   "outputs": [
    {
     "name": "stdout",
     "output_type": "stream",
     "text": [
      "  antecedents consequents  antecedent support  consequent support  support  \\\n",
      "0     (item2)     (item3)                 0.5                 0.5     0.25   \n",
      "1     (item3)     (item2)                 0.5                 0.5     0.25   \n",
      "\n",
      "   confidence  lift  leverage  conviction  zhangs_metric  \n",
      "0         0.5   1.0       0.0         1.0            0.0  \n",
      "1         0.5   1.0       0.0         1.0            0.0  \n"
     ]
    }
   ],
   "source": [
    "print(rules.head())"
   ]
  },
  {
   "cell_type": "markdown",
   "id": "4e398dbf-d80d-48d0-81c2-67e5aca54bca",
   "metadata": {},
   "source": [
    "**Observation**"
   ]
  },
  {
   "cell_type": "markdown",
   "id": "c5ede212-0c45-4414-aefb-8eec22e5f295",
   "metadata": {},
   "source": [
    "Antecedents: The item on the left side of the rule.\n",
    "Consequents: The item on the right side of the rule.\n",
    "Antecedents Support: The support of the antecedent items.\n",
    "Consequents Support: The support of the consequent item.\n",
    "Support: The support of the rule as a whole.\n",
    "Confidence: The probability of the consequent given the antecedent.\n",
    "Lift: The ratio of the observed support to the expected support if antecedent and consequent were independent.\n",
    "Leverage: The difference between the observed support and the expected support if the antecedent and conquest were independent.\n",
    "Zhang's Metric: Another metric that measures the interestingness of the rule.\n",
    "'Support' is 0.25 means the rule appears in 25% of transactions. This value indicates how frequently the items appear together.\n",
    "'Confident' id 0.5 means there is a 50% chance that the consequent is brought when the antecedent is bought.\n",
    "'Lift' is 1.0 means the items are bought together exactly as often as would be expected by chance\n",
    "Leverage is 0.0 suggests there is no extra support due to the rule beyond what would be expected if antecedent and consequent were independent.\n",
    "Zhang's Metric is 0.0 implies that the rule is not particularly interesting in terms of Zhang's metric.\n"
   ]
  },
  {
   "cell_type": "markdown",
   "id": "fa2f1304-b629-457b-b3ac-4b750564d58f",
   "metadata": {},
   "source": [
    "**Interview Questions**"
   ]
  },
  {
   "cell_type": "markdown",
   "id": "823e21f1-8ceb-45ea-a667-3eba02fd21de",
   "metadata": {},
   "source": [
    "1. What is Lift and Why is it Important?\n",
    "\n",
    "Lift measures how much more likely the items in the rule are to be purchased together compared to the peobability of purchasing them independently,A lift greater than 1 indicates a strong association\n"
   ]
  },
  {
   "cell_type": "markdown",
   "id": "3e5fdec9-6d9b-4893-ae07-56da6fc4f10b",
   "metadata": {},
   "source": [
    "2. What is Support and Confidence? How do you calculate them?\n",
    "\n",
    "**Support**: The proportion of transactions that include a particular itemset.\n",
    "support(A) = Number of transactions Containing A / Total Number of Transactions\n",
    "    \n",
    "**Confidence** : The likelihood that item Y is purchased given that item X is purchased\n",
    "\n",
    "Confidence(X--Y) = Support(X union Y) / support(x)\n"
   ]
  },
  {
   "cell_type": "markdown",
   "id": "81b3b41f-6cd3-40bb-9486-665f081999f4",
   "metadata": {},
   "source": [
    "3. What are some limitations or challenges of Association Rules\n",
    "Mining?\n",
    "\n",
    "**Scalability**: Can be computationally expensive with large datasets.\n",
    "\n",
    "**Overfitting**: May generate too many rules some of which may be trivial\n",
    "\n",
    "**Interpretability**:Rules can be complex and hard to interpret especially with high-dimensional data.\n",
    "\n",
    "**Relevance**: Some rules may be statistically significant but not practically useful."
   ]
  }
 ],
 "metadata": {
  "kernelspec": {
   "display_name": "Python (myenv)",
   "language": "python",
   "name": "myenv"
  },
  "language_info": {
   "codemirror_mode": {
    "name": "ipython",
    "version": 3
   },
   "file_extension": ".py",
   "mimetype": "text/x-python",
   "name": "python",
   "nbconvert_exporter": "python",
   "pygments_lexer": "ipython3",
   "version": "3.12.4"
  }
 },
 "nbformat": 4,
 "nbformat_minor": 5
}
